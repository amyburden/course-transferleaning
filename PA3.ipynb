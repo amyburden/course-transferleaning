{
 "cells": [
  {
   "cell_type": "code",
   "execution_count": null,
   "metadata": {
    "collapsed": false,
    "deletable": true,
    "editable": true
   },
   "outputs": [],
   "source": [
    "import vgg16_starter\n",
    "from data_list import data_list\n",
    "from keras.preprocessing.image import load_img\n",
    "from keras.preprocessing.image import img_to_array\n",
    "from keras.preprocessing.image import ImageDataGenerator\n",
    "from keras.optimizers import SGD\n",
    "from matplotlib import pyplot as plt\n",
    "import numpy as np"
   ]
  },
  {
   "cell_type": "code",
   "execution_count": null,
   "metadata": {
    "collapsed": false,
    "deletable": true,
    "editable": true
   },
   "outputs": [],
   "source": [
    "reload(vgg16_starter)\n",
    "from vgg16_starter import getModel\n",
    "model = getModel(256)\n",
    "train_data, val_data, test_data = data_list()"
   ]
  },
  {
   "cell_type": "code",
   "execution_count": null,
   "metadata": {
    "collapsed": false,
    "deletable": true,
    "editable": true
   },
   "outputs": [],
   "source": [
    "calTech256 = ImageDataGenerator(samplewise_center= True,\n",
    "                                samplewise_std_normalization=True,\n",
    "                                rescale = 1./255)\n",
    "train_img = []\n",
    "train_label = []\n",
    "classnum = 0\n",
    "while classnum < 256:\n",
    "    label = np.zeros(256)\n",
    "    label[classnum] = 1\n",
    "    imagenum = 0\n",
    "    while imagenum < 2:\n",
    "        img = load_img(train_data[classnum][imagenum],target_size = (224,224))\n",
    "        x = (img_to_array(img,dim_ordering = 'tf'))\n",
    "        x = x.reshape((1,) + x.shape)\n",
    "        train_label.append(label)\n",
    "        train_img.append(x)\n",
    "        imagenum += 1\n",
    "    classnum += 1\n",
    "train_img = np.vstack(train_img)\n",
    "train_label = np.vstack(train_label)\n",
    "\n",
    "training = calTech256.flow(train_img,train_label)\n",
    " "
   ]
  },
  {
   "cell_type": "code",
   "execution_count": null,
   "metadata": {
    "collapsed": false,
    "deletable": true,
    "editable": true
   },
   "outputs": [],
   "source": [
    "sgd = SGD(lr=1e-3, decay=1e-4, momentum=0.9, nesterov=True)\n",
    "model.compile(optimizer = sgd, loss = 'categorical_crossentropy')\n",
    "his = model.fit_generator(training,512,10)"
   ]
  },
  {
   "cell_type": "code",
   "execution_count": null,
   "metadata": {
    "collapsed": false,
    "deletable": true,
    "editable": true
   },
   "outputs": [],
   "source": [
    "plabel = np.argmax(model.predict(train_img),axis = 1)\n",
    "print  np.mean(train_label[np.arange(train_label.shape[0],plabel)])"
   ]
  },
  {
   "cell_type": "code",
   "execution_count": null,
   "metadata": {
    "collapsed": false,
    "deletable": true,
    "editable": true
   },
   "outputs": [],
   "source": [
    "print  np.mean(train_label[np.arange(train_label.shape[0]),plabel])"
   ]
  },
  {
   "cell_type": "code",
   "execution_count": null,
   "metadata": {
    "collapsed": false,
    "deletable": true,
    "editable": true
   },
   "outputs": [],
   "source": [
    "print 1/np.mean(train_label[np.arange(train_label.shape[0]),plabel])"
   ]
  },
  {
   "cell_type": "code",
   "execution_count": null,
   "metadata": {
    "collapsed": true,
    "deletable": true,
    "editable": true
   },
   "outputs": [],
   "source": []
  }
 ],
 "metadata": {
  "kernelspec": {
   "display_name": "Python 2",
   "language": "python",
   "name": "python2"
  },
  "language_info": {
   "codemirror_mode": {
    "name": "ipython",
    "version": 2
   },
   "file_extension": ".py",
   "mimetype": "text/x-python",
   "name": "python",
   "nbconvert_exporter": "python",
   "pygments_lexer": "ipython2",
   "version": "2.7.10"
  }
 },
 "nbformat": 4,
 "nbformat_minor": 2
}
