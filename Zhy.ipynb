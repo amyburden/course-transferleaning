{
 "cells": [
  {
   "cell_type": "code",
   "execution_count": 1,
   "metadata": {
    "collapsed": false
   },
   "outputs": [
    {
     "name": "stderr",
     "output_type": "stream",
     "text": [
      "Using TensorFlow backend.\n"
     ]
    }
   ],
   "source": [
    "%matplotlib inline\n",
    "import matplotlib.pyplot as plt\n",
    "import glob\n",
    "import numpy as np\n",
    "from keras.preprocessing.image import ImageDataGenerator\n",
    "from collections import defaultdict"
   ]
  },
  {
   "cell_type": "code",
   "execution_count": 25,
   "metadata": {
    "collapsed": false
   },
   "outputs": [],
   "source": [
    "def list_gen():\n",
    "    root_dir = '../256_ObjectCategories/'\n",
    "    image_dirs = glob.glob(root_dir + '*')\n",
    "    d = defaultdict(list)\n",
    "    for idir in image_dirs:\n",
    "        all_images = glob.glob(idir + '/*.jpg')\n",
    "        label_id = int(idir.split('/')[-1].split('.')[0])-1\n",
    "        if label_id > 255:\n",
    "            continue\n",
    "        np.random.shuffle(all_images)\n",
    "        train_paths, val_paths, test_paths = all_images[:len(all_images)/10*8], all_images[len(all_images)/10*8:len(all_images)/10*9], all_images[len(all_images)/10*9:]\n",
    "        train_labels, val_labels, test_labels = [label_id]*(len(all_images)/10*8), [label_id]*(len(all_images)/10), [label_id]*(len(all_images)/10)\n",
    "        \n",
    "        d['train_images'].append(train_paths)\n",
    "        d['val_images'].append(val_paths)\n",
    "        d['test_images'].append(test_paths)\n",
    "        d['train_labels'].append(train_labels)\n",
    "        d['val_labels'].append(val_labels)\n",
    "        d['test_labels'].append(test_labels)\n",
    "    return d\n",
    "\n",
    "all_d = list_gen()\n",
    "num_class = 256"
   ]
  },
  {
   "cell_type": "code",
   "execution_count": 27,
   "metadata": {
    "collapsed": true
   },
   "outputs": [],
   "source": [
    "from keras.preprocessing.image import load_img, img_to_array\n",
    "from keras.utils import np_utils\n",
    "\n",
    "def preprocessing(image_paths, labels, crop_size):\n",
    "    X = np.zeros((len(image_paths), crop_size, crop_size, 3), dtype=np.uint8)\n",
    "    for i,path in enumerate(image_paths):\n",
    "        X[i, :] = img_to_array(load_img(path, target_size=(crop_size, crop_size)))\n",
    "    y = np_utils.to_categorical(labels)\n",
    "    return X, y"
   ]
  },
  {
   "cell_type": "code",
   "execution_count": 35,
   "metadata": {
    "collapsed": false
   },
   "outputs": [],
   "source": [
    "crop_size = 224\n",
    "all_per_class = 16\n",
    "train_paths = []\n",
    "val_paths = []\n",
    "test_paths = []\n",
    "train_labels = []\n",
    "val_labels = []\n",
    "test_labels = []\n",
    "for i in xrange(num_class):\n",
    "    train_paths += (all_d['train_images'][i][:all_per_class])\n",
    "    val_paths += (all_d['val_images'][i][:all_per_class])\n",
    "    test_paths += (all_d['test_images'][i][:all_per_class])\n",
    "    train_labels += (all_d['train_labels'][i][:all_per_class])\n",
    "    val_labels += (all_d['val_labels'][i][:all_per_class])\n",
    "    test_labels += (all_d['test_labels'][i][:all_per_class])\n",
    "\n",
    "X_train, y_train = preprocessing(train_paths, train_labels, crop_size)\n",
    "X_val, y_val = preprocessing(val_paths, val_labels, crop_size)\n",
    "X_test, y_test = preprocessing(test_paths, test_labels, crop_size)"
   ]
  },
  {
   "cell_type": "code",
   "execution_count": 36,
   "metadata": {
    "collapsed": false
   },
   "outputs": [],
   "source": [
    "datagen = ImageDataGenerator(\n",
    "    featurewise_center=True,\n",
    "    featurewise_std_normalization=True,\n",
    "    rotation_range=20,\n",
    "    width_shift_range=0.2,\n",
    "    height_shift_range=0.2,\n",
    "    rescale=1./255,\n",
    "    horizontal_flip=True)\n",
    "\n",
    "datagen.fit(X_train)"
   ]
  },
  {
   "cell_type": "code",
   "execution_count": 37,
   "metadata": {
    "collapsed": false
   },
   "outputs": [],
   "source": [
    "import keras\n",
    "from keras.applications import VGG16\n",
    "from keras.models import Model\n",
    "from keras.layers import Dense\n",
    "from keras.optimizers import SGD\n",
    "\n",
    "def getModel( output_dim ):\n",
    "    ''' \n",
    "        * output_dim: the number of classes (int)\n",
    "        * return: compiled model (keras.engine.training.Model)\n",
    "    '''\n",
    "    vgg_model = VGG16( weights='imagenet', include_top=True )\n",
    "    vgg_out = vgg_model.layers[-2].output #Last FC layer's output  \n",
    "    softmax_layer = Dense(output_dim, activation='softmax')(vgg_out) #Create softmax layer taking input as vgg_out\n",
    "    #Create new transfer learning model\n",
    "    tl_model = Model( input=vgg_model.input, output=softmax_layer )\n",
    "\n",
    "    #Freeze all layers of VGG16 and Compile the model\n",
    "    for layer in vgg_model.layers:\n",
    "        layer.trainable = False\n",
    "    #Confirm the model is appropriate\n",
    "    return tl_model\n",
    "\n",
    "model = getModel(num_class)\n",
    "sgd = SGD(lr=1e-3, decay=1e-4, momentum=0.9, nesterov=True)\n",
    "model.compile(optimizer=sgd,\n",
    "              loss='categorical_crossentropy',\n",
    "              metrics=['accuracy'])"
   ]
  },
  {
   "cell_type": "code",
   "execution_count": null,
   "metadata": {
    "collapsed": false
   },
   "outputs": [
    {
     "name": "stdout",
     "output_type": "stream",
     "text": [
      "Epoch 1/10\n",
      "2848/4096 [===================>..........] - ETA: 379s - loss: 5.7297 - acc: 0.0021"
     ]
    }
   ],
   "source": [
    "model.fit_generator(datagen.flow(X_train, y_train, batch_size=32),\n",
    "                    samples_per_epoch=len(X_train), nb_epoch=10)"
   ]
  },
  {
   "cell_type": "code",
   "execution_count": null,
   "metadata": {
    "collapsed": true
   },
   "outputs": [],
   "source": []
  }
 ],
 "metadata": {
  "kernelspec": {
   "display_name": "Python 2",
   "language": "python",
   "name": "python2"
  },
  "language_info": {
   "codemirror_mode": {
    "name": "ipython",
    "version": 2
   },
   "file_extension": ".py",
   "mimetype": "text/x-python",
   "name": "python",
   "nbconvert_exporter": "python",
   "pygments_lexer": "ipython2",
   "version": "2.7.6"
  }
 },
 "nbformat": 4,
 "nbformat_minor": 0
}
