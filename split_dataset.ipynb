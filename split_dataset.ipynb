{
 "cells": [
  {
   "cell_type": "code",
   "execution_count": 10,
   "metadata": {
    "collapsed": false
   },
   "outputs": [],
   "source": [
    "import os\n",
    "import glob\n",
    "import numpy as np\n",
    "import cv2 as cv"
   ]
  },
  {
   "cell_type": "code",
   "execution_count": 23,
   "metadata": {
    "collapsed": false
   },
   "outputs": [
    {
     "name": "stdout",
     "output_type": "stream",
     "text": [
      "['./256_ObjectCategories/256.toad/256_0038.jpg', './256_ObjectCategories/256.toad/256_0023.jpg', './256_ObjectCategories/256.toad/256_0086.jpg', './256_ObjectCategories/256.toad/256_0108.jpg', './256_ObjectCategories/256.toad/256_0003.jpg', './256_ObjectCategories/256.toad/256_0035.jpg', './256_ObjectCategories/256.toad/256_0104.jpg', './256_ObjectCategories/256.toad/256_0094.jpg', './256_ObjectCategories/256.toad/256_0015.jpg', './256_ObjectCategories/256.toad/256_0066.jpg', './256_ObjectCategories/256.toad/256_0049.jpg']\n"
     ]
    }
   ],
   "source": [
    "def data_list():\n",
    "    base = './256_ObjectCategories/*'\n",
    "    subfolders = glob.glob(base)\n",
    "    train_data = []\n",
    "    val_data = []\n",
    "    test_data = []\n",
    "    for subfolder in subfolders[: -1]:\n",
    "        images = np.array(glob.glob(os.path.join(subfolder,'*.jpg')))\n",
    "        idx = range(len(images))\n",
    "        train_idx = idx[:]\n",
    "        np.random.shuffle(idx)\n",
    "        train_data.append(images[idx[: len(idx)*8/10]].tolist())\n",
    "        val_data.append(images[idx[len(idx)*8/10: len(idx)*9/10]].tolist())\n",
    "        test_data.append(images[idx[len(idx)*9/10:]].tolist())\n",
    "    return train_data, val_data, test_data\n",
    "train_data, val_data, test_data = data_list()\n",
    "print test_data[-1]"
   ]
  },
  {
   "cell_type": "code",
   "execution_count": null,
   "metadata": {
    "collapsed": true
   },
   "outputs": [],
   "source": []
  }
 ],
 "metadata": {
  "kernelspec": {
   "display_name": "Python 2",
   "language": "python",
   "name": "python2"
  },
  "language_info": {
   "codemirror_mode": {
    "name": "ipython",
    "version": 2
   },
   "file_extension": ".py",
   "mimetype": "text/x-python",
   "name": "python",
   "nbconvert_exporter": "python",
   "pygments_lexer": "ipython2",
   "version": "2.7.12"
  }
 },
 "nbformat": 4,
 "nbformat_minor": 1
}
